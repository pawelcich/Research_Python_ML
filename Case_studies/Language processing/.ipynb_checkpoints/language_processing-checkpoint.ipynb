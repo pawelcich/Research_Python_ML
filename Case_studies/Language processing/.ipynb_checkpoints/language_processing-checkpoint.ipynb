{
 "cells": [
  {
   "cell_type": "code",
   "execution_count": 1,
   "metadata": {},
   "outputs": [],
   "source": [
    "text = \"Lorem ipsum dolor sit amet, consectetur adipiscing elit, sed do eiusmod tempor incididunt ut labore et dolore magna aliqua.\""
   ]
  },
  {
   "cell_type": "code",
   "execution_count": 4,
   "metadata": {},
   "outputs": [],
   "source": [
    "def count_words(text):\n",
    "    \"\"\"\n",
    "    Count number of words.\n",
    "    \"\"\"\n",
    "    text = text.lower()\n",
    "    skips = ['.',',',':',';','\"',\"'\"]\n",
    "    for ch in skips:\n",
    "        text = text.replace(ch,'')\n",
    "        \n",
    "    word_counts = {}\n",
    "    \n",
    "    for word in text.split(\" \"):\n",
    "        if word in word_counts:\n",
    "            word_counts[word] += 1\n",
    "        else:\n",
    "            word_counts[word] = 1\n",
    "\n",
    "    return word_counts"
   ]
  },
  {
   "cell_type": "code",
   "execution_count": 10,
   "metadata": {},
   "outputs": [],
   "source": [
    "from collections import Counter\n",
    "\n",
    "def count_words_fast(text):\n",
    "    \"\"\"\n",
    "    Count number of words using collections.Counter.\n",
    "    \"\"\"\n",
    "    text = text.lower()\n",
    "    skips = ['.',',',':',';','\"',\"'\"]\n",
    "    for ch in skips:\n",
    "        text = text.replace(ch,'')\n",
    "        \n",
    "    word_counts = Counter(text.split(' '))\n",
    "\n",
    "    return word_counts"
   ]
  },
  {
   "cell_type": "code",
   "execution_count": 9,
   "metadata": {},
   "outputs": [
    {
     "data": {
      "text/plain": [
       "False"
      ]
     },
     "execution_count": 9,
     "metadata": {},
     "output_type": "execute_result"
    }
   ],
   "source": [
    "count_words_fast(text) is count_words(text)"
   ]
  },
  {
   "cell_type": "code",
   "execution_count": 11,
   "metadata": {},
   "outputs": [],
   "source": [
    "def read_book(title_path):\n",
    "    \"\"\"\n",
    "    Read a book and return it as a string.\n",
    "    \"\"\"\n",
    "    with open(title_path, 'r', encoding='UTF-8') as current_file:\n",
    "        text = current_file.read()\n",
    "        text = text.replace('\\n','').replace('\\r','')\n",
    "    return text"
   ]
  },
  {
   "cell_type": "code",
   "execution_count": 21,
   "metadata": {},
   "outputs": [],
   "source": [
    "text = read_book('D:\\\\Projekty\\\\edx\\\\Case_studies\\\\Language processing\\\\romeo_and_juliet.txt')"
   ]
  },
  {
   "cell_type": "code",
   "execution_count": 27,
   "metadata": {},
   "outputs": [],
   "source": [
    "def word_stats(word_counts):\n",
    "    num_uni = len(word_counts)\n",
    "    counts = word_counts.values()\n",
    "    return (num_uni, counts)\n",
    "word_counts = count_words(text)\n",
    "(num_unique, counts) = word_stats(word_counts)"
   ]
  },
  {
   "cell_type": "code",
   "execution_count": 54,
   "metadata": {},
   "outputs": [
    {
     "data": {
      "text/plain": [
       "list"
      ]
     },
     "execution_count": 54,
     "metadata": {},
     "output_type": "execute_result"
    }
   ],
   "source": [
    "import os\n",
    "book_dir = \"D:\\\\Projekty\\\\edx\\\\Case_studies\\\\Language processing\"\n",
    "type(os.listdir(book_dir))"
   ]
  },
  {
   "cell_type": "code",
   "execution_count": 52,
   "metadata": {},
   "outputs": [
    {
     "name": "stdout",
     "output_type": "stream",
     "text": [
      "D:\\Projekty\\edx\\Case_studies\\Language processing\\Books\\romeo_and_julia_ger.txt\n",
      "D:\\Projekty\\edx\\Case_studies\\Language processing\\Books\\romeo_and_juliet.txt\n"
     ]
    }
   ],
   "source": [
    "import pandas as pd\n",
    "\n",
    "stats = pd.DataFrame(columns = ('name', 'length', 'unique'))\n",
    "title_num = 1\n",
    "\n",
    "for book in os.listdir(book_dir + '\\\\Books'):\n",
    "    if book.startswith('.'):\n",
    "        continue\n",
    "    inputfile = book_dir + '\\\\Books\\\\' + book\n",
    "    print(inputfile)\n",
    "    text = read_book(inputfile)\n",
    "    (num_unique, counts) = word_stats(count_words(text))\n",
    "    stats.loc[title_num] = book.capitalize().replace('.txt',''), sum(counts), num_unique\n",
    "    title_num += 1"
   ]
  },
  {
   "cell_type": "code",
   "execution_count": 53,
   "metadata": {},
   "outputs": [
    {
     "data": {
      "text/html": [
       "<div>\n",
       "<style scoped>\n",
       "    .dataframe tbody tr th:only-of-type {\n",
       "        vertical-align: middle;\n",
       "    }\n",
       "\n",
       "    .dataframe tbody tr th {\n",
       "        vertical-align: top;\n",
       "    }\n",
       "\n",
       "    .dataframe thead th {\n",
       "        text-align: right;\n",
       "    }\n",
       "</style>\n",
       "<table border=\"1\" class=\"dataframe\">\n",
       "  <thead>\n",
       "    <tr style=\"text-align: right;\">\n",
       "      <th></th>\n",
       "      <th>name</th>\n",
       "      <th>length</th>\n",
       "      <th>unique</th>\n",
       "    </tr>\n",
       "  </thead>\n",
       "  <tbody>\n",
       "    <tr>\n",
       "      <th>1</th>\n",
       "      <td>Romeo_and_julia_ger</td>\n",
       "      <td>20311</td>\n",
       "      <td>7523</td>\n",
       "    </tr>\n",
       "    <tr>\n",
       "      <th>2</th>\n",
       "      <td>Romeo_and_juliet</td>\n",
       "      <td>40811</td>\n",
       "      <td>5129</td>\n",
       "    </tr>\n",
       "  </tbody>\n",
       "</table>\n",
       "</div>"
      ],
      "text/plain": [
       "                  name length unique\n",
       "1  Romeo_and_julia_ger  20311   7523\n",
       "2     Romeo_and_juliet  40811   5129"
      ]
     },
     "execution_count": 53,
     "metadata": {},
     "output_type": "execute_result"
    }
   ],
   "source": [
    "stats"
   ]
  },
  {
   "cell_type": "code",
   "execution_count": null,
   "metadata": {},
   "outputs": [],
   "source": []
  }
 ],
 "metadata": {
  "kernelspec": {
   "display_name": "Python 3",
   "language": "python",
   "name": "python3"
  },
  "language_info": {
   "codemirror_mode": {
    "name": "ipython",
    "version": 3
   },
   "file_extension": ".py",
   "mimetype": "text/x-python",
   "name": "python",
   "nbconvert_exporter": "python",
   "pygments_lexer": "ipython3",
   "version": "3.8.3"
  }
 },
 "nbformat": 4,
 "nbformat_minor": 4
}
