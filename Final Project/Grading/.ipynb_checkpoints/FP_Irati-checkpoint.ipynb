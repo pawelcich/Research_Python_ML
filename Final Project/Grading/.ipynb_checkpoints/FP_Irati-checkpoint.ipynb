{
 "cells": [
  {
   "cell_type": "code",
   "execution_count": null,
   "metadata": {},
   "outputs": [],
   "source": [
    "\"\"\" This code is used to predict differnet physical activities \"\"\"\n",
    "import numpy as np\n",
    "import pandas as pd\n",
    "import time\n",
    "from sklearn.ensemble import RandomForestClassifier\n",
    "from sklearn.metrics import accuracy_score\n",
    "from sklearn.metrics import r2_score\n",
    "import matplotlib.pyplot as plt\n",
    "import warnings\n",
    "warnings.filterwarnings(\"ignore\")\n",
    "\n",
    "def calculate_input_data(df,labels):\n",
    "    \"\"\"Function to select the X data\"\"\"\n",
    "    df_new = df[df['timestamp'].isin(labels['timestamp'])] # check which ones are the values that are in the 2 dataframes\n",
    "    x = np.array(df_new['x'])\n",
    "    y = np.array(df_new['y'])\n",
    "    z = np.array(df_new['z'])\n",
    "    X = np.vstack((x,y,z)).T\n",
    "    return X\n",
    "\n",
    "start_time = time.time()\n",
    "# Read the documents and store them in data frames\n",
    "df_training = pd.read_csv('train_time_series.csv')\n",
    "labels_training = pd.read_csv('train_labels.csv')\n",
    "df_test = pd.read_csv('test_time_series.csv')\n",
    "labels_test = pd.read_csv('test_labels.csv')\n",
    "\n",
    "# Specify the X and y for both training and test\n",
    "X_training = calculate_input_data(df_training,labels_training)\n",
    "y_training = np.array(labels_training['label'])\n",
    "X_test = calculate_input_data(df_test,labels_test)\n",
    "\n",
    "# Generate the classifier\n",
    "forest_classifier = RandomForestClassifier()\n",
    "\n",
    "# fit and predict\n",
    "forest_classifier.fit(X_training,y_training)\n",
    "predictions = forest_classifier.predict(X_test)\n",
    "\n",
    "end_time = time.time()\n",
    "print('Time for running: ', (end_time-start_time), ' seconds')\n",
    "\n",
    "# Save the predictions in the dataframe\n",
    "labels_test['label'] = predictions\n",
    "\n",
    "# Save the dataframe to the csv file\n",
    "labels_test.to_csv('test_labels.csv')"
   ]
  }
 ],
 "metadata": {
  "kernelspec": {
   "display_name": "Python 3",
   "language": "python",
   "name": "python3"
  },
  "language_info": {
   "codemirror_mode": {
    "name": "ipython",
    "version": 3
   },
   "file_extension": ".py",
   "mimetype": "text/x-python",
   "name": "python",
   "nbconvert_exporter": "python",
   "pygments_lexer": "ipython3",
   "version": "3.8.3"
  }
 },
 "nbformat": 4,
 "nbformat_minor": 4
}
