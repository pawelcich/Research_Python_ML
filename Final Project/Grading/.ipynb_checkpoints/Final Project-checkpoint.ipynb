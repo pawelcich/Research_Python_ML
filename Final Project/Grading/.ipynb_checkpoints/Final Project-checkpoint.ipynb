{
 "cells": [
  {
   "cell_type": "markdown",
   "metadata": {},
   "source": [
    "# Python for Research: Final Project\n",
    "### Project goal\n",
    "Predict type of physical activity from tri-axial smartphone accelerometer data.\n",
    "\n",
    "### Input data\n",
    "- train_time_series.csv: Raw accelerometer data\n",
    " - timestamp, UTC time, accuracy, x, y, z\n",
    "- train_labels.csv: Activity labels to use to train model\n",
    " - 1 = standing, 2 = walking, 3 = stairs down, 4 = stairs up\n",
    " - Only provided for every 10th observation in train_time_series.csv\n",
    "- test_time_series.csv: Predict activity type for this dataset. Accuracy determined as percentage of correct classifications.\n",
    "\n",
    "### Output\n",
    "- test_labels.csv: Upload activity predictions from test_time_series.csv\n",
    "- Runtime of code\n",
    "\n",
    "### Method\n",
    "- Inner join train_time_series and trail_labels.csv \n",
    "- Train random forest model using 80% of training data\n",
    " - Linear regression is not effective for classification, while logistic regression is best for classification with binary outcomes.\n",
    "- Predict activity for remaining 20% of training data\n",
    "- Conduct cross-validation to improve model performance\n",
    "- Predict activity for test data"
   ]
  },
  {
   "cell_type": "code",
   "execution_count": 1,
   "metadata": {},
   "outputs": [],
   "source": [
    "import pandas as pd\n",
    "import numpy as np\n",
    "import time\n",
    "\n",
    "from sklearn.model_selection import cross_val_score\n",
    "from sklearn.linear_model import LinearRegression\n",
    "from sklearn.linear_model import LogisticRegression\n",
    "from sklearn.ensemble import RandomForestRegressor\n",
    "from sklearn.ensemble import RandomForestClassifier\n",
    "\n",
    "from sklearn.metrics import accuracy_score\n",
    "from sklearn.metrics import r2_score\n",
    "\n",
    "import matplotlib.pyplot as plt\n",
    "\n",
    "import warnings\n",
    "warnings.filterwarnings(\"ignore\")"
   ]
  },
  {
   "cell_type": "code",
   "execution_count": 2,
   "metadata": {},
   "outputs": [],
   "source": [
    "start = time.time()\n",
    "\n",
    "# Import data\n",
    "train_time_df = pd.read_csv('train_time_series.csv')\n",
    "train_activity_df = pd.read_csv('train_labels.csv')\n",
    "test_time_df = pd.read_csv('test_time_series.csv')\n",
    "test_labels_df = pd.read_csv('test_labels.csv')"
   ]
  },
  {
   "cell_type": "code",
   "execution_count": 3,
   "metadata": {},
   "outputs": [],
   "source": [
    "# Remove unnecessary columns\n",
    "train_time_df = train_time_df.drop(['Unnamed: 0', 'UTC time', 'accuracy'], axis = 1)\n",
    "train_activity_df = train_activity_df.drop(['Unnamed: 0', 'UTC time'], axis = 1)\n",
    "test_time_df = test_time_df.drop(['Unnamed: 0', 'UTC time', 'accuracy'], axis = 1)\n",
    "test_labels_df = test_labels_df.drop(['Unnamed: 0', 'UTC time'], axis = 1)"
   ]
  },
  {
   "cell_type": "code",
   "execution_count": 4,
   "metadata": {
    "scrolled": true
   },
   "outputs": [
    {
     "data": {
      "text/html": [
       "<div>\n",
       "<style scoped>\n",
       "    .dataframe tbody tr th:only-of-type {\n",
       "        vertical-align: middle;\n",
       "    }\n",
       "\n",
       "    .dataframe tbody tr th {\n",
       "        vertical-align: top;\n",
       "    }\n",
       "\n",
       "    .dataframe thead th {\n",
       "        text-align: right;\n",
       "    }\n",
       "</style>\n",
       "<table border=\"1\" class=\"dataframe\">\n",
       "  <thead>\n",
       "    <tr style=\"text-align: right;\">\n",
       "      <th></th>\n",
       "      <th>timestamp</th>\n",
       "      <th>x</th>\n",
       "      <th>y</th>\n",
       "      <th>z</th>\n",
       "      <th>label</th>\n",
       "    </tr>\n",
       "  </thead>\n",
       "  <tbody>\n",
       "    <tr>\n",
       "      <th>77</th>\n",
       "      <td>1565110008264</td>\n",
       "      <td>0.909073</td>\n",
       "      <td>-0.851181</td>\n",
       "      <td>-0.034027</td>\n",
       "      <td>2</td>\n",
       "    </tr>\n",
       "    <tr>\n",
       "      <th>39</th>\n",
       "      <td>1565109970177</td>\n",
       "      <td>-0.021774</td>\n",
       "      <td>-0.363892</td>\n",
       "      <td>0.079330</td>\n",
       "      <td>2</td>\n",
       "    </tr>\n",
       "    <tr>\n",
       "      <th>178</th>\n",
       "      <td>1565110109588</td>\n",
       "      <td>0.062851</td>\n",
       "      <td>-0.497757</td>\n",
       "      <td>0.058685</td>\n",
       "      <td>3</td>\n",
       "    </tr>\n",
       "    <tr>\n",
       "      <th>281</th>\n",
       "      <td>1565110212825</td>\n",
       "      <td>0.255386</td>\n",
       "      <td>-0.786774</td>\n",
       "      <td>0.076691</td>\n",
       "      <td>3</td>\n",
       "    </tr>\n",
       "    <tr>\n",
       "      <th>303</th>\n",
       "      <td>1565110234876</td>\n",
       "      <td>-0.429321</td>\n",
       "      <td>-0.694839</td>\n",
       "      <td>-0.462814</td>\n",
       "      <td>2</td>\n",
       "    </tr>\n",
       "  </tbody>\n",
       "</table>\n",
       "</div>"
      ],
      "text/plain": [
       "         timestamp         x         y         z  label\n",
       "77   1565110008264  0.909073 -0.851181 -0.034027      2\n",
       "39   1565109970177 -0.021774 -0.363892  0.079330      2\n",
       "178  1565110109588  0.062851 -0.497757  0.058685      3\n",
       "281  1565110212825  0.255386 -0.786774  0.076691      3\n",
       "303  1565110234876 -0.429321 -0.694839 -0.462814      2"
      ]
     },
     "execution_count": 4,
     "metadata": {},
     "output_type": "execute_result"
    }
   ],
   "source": [
    "# Inner join train_time_series and trail_labels.csv \n",
    "train_df = pd.merge(left = train_time_df, right = train_activity_df, left_on = 'timestamp', right_on = 'timestamp')\n",
    "train_df.head()\n",
    "\n",
    "# Create training set with 80% of data\n",
    "subset = 0.9\n",
    "nRows = round(train_df.shape[0] * subset)\n",
    "train_subset_df = train_df.sample(n = nRows)\n",
    "train_subset_df.head()"
   ]
  },
  {
   "cell_type": "code",
   "execution_count": 5,
   "metadata": {},
   "outputs": [
    {
     "data": {
      "text/plain": [
       "(338,)"
      ]
     },
     "execution_count": 5,
     "metadata": {},
     "output_type": "execute_result"
    }
   ],
   "source": [
    "classification_outcome = train_subset_df['label']\n",
    "classification_outcome.head()\n",
    "classification_outcome.shape"
   ]
  },
  {
   "cell_type": "code",
   "execution_count": 6,
   "metadata": {},
   "outputs": [],
   "source": [
    "# Create function to assess accuracy of prediction\n",
    "def accuracy(estimator, X, y):\n",
    "    predictions = estimator.fit(X, y).predict(X)\n",
    "    return accuracy_score(y, predictions)\n",
    "\n",
    "# Define inputs (covariates) and outputs (classification_outcome)\n",
    "covariates = train_subset_df[['x', 'y', 'z']]\n",
    "classification_outcome = train_subset_df['label']\n",
    "\n",
    "# Train random forest model using training subset\n",
    "forest_classifier = RandomForestClassifier(max_depth = 4, random_state = 0)\n",
    "forest_classifier.fit(covariates, classification_outcome)\n",
    "activity_pred = forest_classifier.predict(covariates)"
   ]
  },
  {
   "cell_type": "code",
   "execution_count": 7,
   "metadata": {},
   "outputs": [
    {
     "data": {
      "text/plain": [
       "0.650887573964497"
      ]
     },
     "execution_count": 7,
     "metadata": {},
     "output_type": "execute_result"
    }
   ],
   "source": [
    "# In-sample accuracy\n",
    "accuracy(forest_classifier, covariates, classification_outcome)\n",
    "\n",
    "# In-sample accuracy is 65%"
   ]
  },
  {
   "cell_type": "code",
   "execution_count": 8,
   "metadata": {},
   "outputs": [
    {
     "data": {
      "text/plain": [
       "0.8648648648648649"
      ]
     },
     "execution_count": 8,
     "metadata": {},
     "output_type": "execute_result"
    }
   ],
   "source": [
    "# Out-of-sample accuracy\n",
    "\n",
    "# Left outer join to pull 20% of training set\n",
    "train_subset2_df = train_df.merge(train_subset_df, on = ['timestamp'], how = 'left', indicator = True)\n",
    "train_subset2_df = train_subset2_df.loc[train_subset2_df._merge == 'left_only']\n",
    "train_subset2_df = train_subset2_df.drop(['x_y', 'y_y', 'z_y', 'label_y', '_merge'], axis = 1).rename(columns = {\"x_x\": \"x\", \"y_x\": \"y\", \"z_x\": \"z\", \"label_x\": \"label\"})\n",
    "train_subset2_df.head()\n",
    "\n",
    "covariates2 = train_subset2_df[['x', 'y', 'z']]\n",
    "classification_outcome2 = train_subset2_df['label']\n",
    "\n",
    "activity_pred2 = forest_classifier.predict(covariates2)\n",
    "accuracy(forest_classifier, covariates2, classification_outcome2)"
   ]
  },
  {
   "cell_type": "code",
   "execution_count": 9,
   "metadata": {},
   "outputs": [],
   "source": [
    "# Predict on test data\n",
    "covariates3 = test_time_df[['x', 'y', 'z']]\n",
    "activity_pred3 = forest_classifier.predict(covariates3)\n",
    "test_time_df['activity_pred'] = activity_pred3\n",
    "test_time_df.head()\n",
    "\n",
    "test_time_df.to_csv(\"test_time_series_predict.csv\")"
   ]
  },
  {
   "cell_type": "code",
   "execution_count": 10,
   "metadata": {},
   "outputs": [],
   "source": [
    "# Write to CSV file\n",
    "test_labels_df_merged = pd.merge(test_labels_df, test_time_df, on = ['timestamp'])\n",
    "test_labels_df_merged.head()\n",
    "\n",
    "test_labels_df_merged.to_csv(\"test_labels_predict.csv\")"
   ]
  },
  {
   "cell_type": "code",
   "execution_count": 11,
   "metadata": {},
   "outputs": [
    {
     "data": {
      "text/plain": [
       "[2,\n",
       " 2,\n",
       " 2,\n",
       " 3,\n",
       " 2,\n",
       " 2,\n",
       " 3,\n",
       " 2,\n",
       " 2,\n",
       " 2,\n",
       " 2,\n",
       " 2,\n",
       " 2,\n",
       " 2,\n",
       " 2,\n",
       " 2,\n",
       " 2,\n",
       " 3,\n",
       " 2,\n",
       " 2,\n",
       " 2,\n",
       " 2,\n",
       " 2,\n",
       " 2,\n",
       " 2,\n",
       " 3,\n",
       " 2,\n",
       " 2,\n",
       " 2,\n",
       " 3,\n",
       " 2,\n",
       " 2,\n",
       " 2,\n",
       " 2,\n",
       " 2,\n",
       " 2,\n",
       " 2,\n",
       " 2,\n",
       " 2,\n",
       " 2,\n",
       " 2,\n",
       " 2,\n",
       " 2,\n",
       " 2,\n",
       " 2,\n",
       " 2,\n",
       " 2,\n",
       " 2,\n",
       " 2,\n",
       " 2,\n",
       " 2,\n",
       " 2,\n",
       " 2,\n",
       " 2,\n",
       " 2,\n",
       " 2,\n",
       " 2,\n",
       " 2,\n",
       " 2,\n",
       " 2,\n",
       " 2,\n",
       " 2,\n",
       " 2,\n",
       " 2,\n",
       " 2,\n",
       " 2,\n",
       " 2,\n",
       " 2,\n",
       " 2,\n",
       " 2,\n",
       " 2,\n",
       " 2,\n",
       " 3,\n",
       " 2,\n",
       " 2,\n",
       " 3,\n",
       " 2,\n",
       " 2,\n",
       " 2,\n",
       " 2,\n",
       " 2,\n",
       " 2,\n",
       " 2,\n",
       " 2,\n",
       " 2,\n",
       " 3,\n",
       " 3,\n",
       " 2,\n",
       " 2,\n",
       " 2,\n",
       " 2,\n",
       " 2,\n",
       " 2,\n",
       " 2,\n",
       " 2,\n",
       " 2,\n",
       " 2,\n",
       " 3,\n",
       " 2,\n",
       " 2,\n",
       " 2,\n",
       " 2,\n",
       " 2,\n",
       " 2,\n",
       " 2,\n",
       " 2,\n",
       " 2,\n",
       " 2,\n",
       " 3,\n",
       " 3,\n",
       " 2,\n",
       " 2,\n",
       " 2,\n",
       " 2,\n",
       " 2,\n",
       " 2,\n",
       " 2,\n",
       " 2,\n",
       " 2,\n",
       " 2,\n",
       " 3,\n",
       " 2,\n",
       " 2,\n",
       " 2,\n",
       " 2]"
      ]
     },
     "execution_count": 11,
     "metadata": {},
     "output_type": "execute_result"
    }
   ],
   "source": [
    "test_labels_df_merged['activity_pred'].tolist()\n",
    "\n",
    "# With this approach, accuracy on test data is 46.4%. This isn't perfect, but this is a 40% improvement over baseline performance of 33%."
   ]
  },
  {
   "cell_type": "code",
   "execution_count": 12,
   "metadata": {},
   "outputs": [
    {
     "data": {
      "text/plain": [
       "0.6279420852661133"
      ]
     },
     "execution_count": 12,
     "metadata": {},
     "output_type": "execute_result"
    }
   ],
   "source": [
    "end = time.time()\n",
    "end - start"
   ]
  },
  {
   "cell_type": "markdown",
   "metadata": {},
   "source": [
    "### Conclusion\n",
    "We can predict activity type with 46% accuracy (40% improvement over baseline of 33%) based on accelerometer data."
   ]
  }
 ],
 "metadata": {
  "kernelspec": {
   "display_name": "Python 3",
   "language": "python",
   "name": "python3"
  },
  "language_info": {
   "codemirror_mode": {
    "name": "ipython",
    "version": 3
   },
   "file_extension": ".py",
   "mimetype": "text/x-python",
   "name": "python",
   "nbconvert_exporter": "python",
   "pygments_lexer": "ipython3",
   "version": "3.8.3"
  }
 },
 "nbformat": 4,
 "nbformat_minor": 4
}
