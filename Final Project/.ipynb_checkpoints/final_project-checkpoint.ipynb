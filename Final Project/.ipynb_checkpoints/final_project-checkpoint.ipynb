{
 "cells": [
  {
   "cell_type": "markdown",
   "metadata": {},
   "source": [
    "# 1. Imports and Data Preprocessing"
   ]
  },
  {
   "cell_type": "code",
   "execution_count": 1,
   "metadata": {},
   "outputs": [],
   "source": [
    "import time\n",
    "\n",
    "t0 = time.time()"
   ]
  },
  {
   "cell_type": "code",
   "execution_count": 2,
   "metadata": {},
   "outputs": [],
   "source": [
    "import pandas as pd\n",
    "import numpy as np\n",
    "\n",
    "from sklearn.linear_model import LogisticRegression\n",
    "from sklearn.ensemble import RandomForestClassifier\n",
    "from sklearn.metrics import accuracy_score, classification_report\n",
    "from sklearn.model_selection import train_test_split\n",
    "from sklearn.neighbors import KNeighborsClassifier\n",
    "from collections import Counter\n",
    "\n",
    "import matplotlib.pyplot as plt"
   ]
  },
  {
   "cell_type": "code",
   "execution_count": 3,
   "metadata": {},
   "outputs": [
    {
     "data": {
      "text/html": [
       "<div>\n",
       "<style scoped>\n",
       "    .dataframe tbody tr th:only-of-type {\n",
       "        vertical-align: middle;\n",
       "    }\n",
       "\n",
       "    .dataframe tbody tr th {\n",
       "        vertical-align: top;\n",
       "    }\n",
       "\n",
       "    .dataframe thead th {\n",
       "        text-align: right;\n",
       "    }\n",
       "</style>\n",
       "<table border=\"1\" class=\"dataframe\">\n",
       "  <thead>\n",
       "    <tr style=\"text-align: right;\">\n",
       "      <th></th>\n",
       "      <th>timestamp</th>\n",
       "      <th>UTC time</th>\n",
       "      <th>accuracy</th>\n",
       "      <th>x</th>\n",
       "      <th>y</th>\n",
       "      <th>z</th>\n",
       "    </tr>\n",
       "  </thead>\n",
       "  <tbody>\n",
       "    <tr>\n",
       "      <th>20586</th>\n",
       "      <td>1565109930787</td>\n",
       "      <td>2019-08-06T16:45:30.787</td>\n",
       "      <td>unknown</td>\n",
       "      <td>-0.006485</td>\n",
       "      <td>-0.934860</td>\n",
       "      <td>-0.069046</td>\n",
       "    </tr>\n",
       "    <tr>\n",
       "      <th>20587</th>\n",
       "      <td>1565109930887</td>\n",
       "      <td>2019-08-06T16:45:30.887</td>\n",
       "      <td>unknown</td>\n",
       "      <td>-0.066467</td>\n",
       "      <td>-1.015442</td>\n",
       "      <td>0.089554</td>\n",
       "    </tr>\n",
       "    <tr>\n",
       "      <th>20588</th>\n",
       "      <td>1565109930987</td>\n",
       "      <td>2019-08-06T16:45:30.987</td>\n",
       "      <td>unknown</td>\n",
       "      <td>-0.043488</td>\n",
       "      <td>-1.021255</td>\n",
       "      <td>0.178467</td>\n",
       "    </tr>\n",
       "    <tr>\n",
       "      <th>20589</th>\n",
       "      <td>1565109931087</td>\n",
       "      <td>2019-08-06T16:45:31.087</td>\n",
       "      <td>unknown</td>\n",
       "      <td>-0.053802</td>\n",
       "      <td>-0.987701</td>\n",
       "      <td>0.068985</td>\n",
       "    </tr>\n",
       "    <tr>\n",
       "      <th>20590</th>\n",
       "      <td>1565109931188</td>\n",
       "      <td>2019-08-06T16:45:31.188</td>\n",
       "      <td>unknown</td>\n",
       "      <td>-0.054031</td>\n",
       "      <td>-1.003616</td>\n",
       "      <td>0.126450</td>\n",
       "    </tr>\n",
       "  </tbody>\n",
       "</table>\n",
       "</div>"
      ],
      "text/plain": [
       "           timestamp                 UTC time accuracy         x         y  \\\n",
       "20586  1565109930787  2019-08-06T16:45:30.787  unknown -0.006485 -0.934860   \n",
       "20587  1565109930887  2019-08-06T16:45:30.887  unknown -0.066467 -1.015442   \n",
       "20588  1565109930987  2019-08-06T16:45:30.987  unknown -0.043488 -1.021255   \n",
       "20589  1565109931087  2019-08-06T16:45:31.087  unknown -0.053802 -0.987701   \n",
       "20590  1565109931188  2019-08-06T16:45:31.188  unknown -0.054031 -1.003616   \n",
       "\n",
       "              z  \n",
       "20586 -0.069046  \n",
       "20587  0.089554  \n",
       "20588  0.178467  \n",
       "20589  0.068985  \n",
       "20590  0.126450  "
      ]
     },
     "execution_count": 3,
     "metadata": {},
     "output_type": "execute_result"
    }
   ],
   "source": [
    "raw_data = pd.read_csv('train_time_series.csv', index_col=0)\n",
    "train_labels = pd.read_csv('train_labels.csv', index_col=0)\n",
    "raw_data.head()"
   ]
  },
  {
   "cell_type": "code",
   "execution_count": 4,
   "metadata": {},
   "outputs": [
    {
     "data": {
      "text/plain": [
       "timestamp    False\n",
       "x            False\n",
       "y            False\n",
       "z            False\n",
       "dtype: bool"
      ]
     },
     "metadata": {},
     "output_type": "display_data"
    }
   ],
   "source": [
    "# Raw data file clean-up by removing unnecessary columns\n",
    "data = raw_data.drop(['accuracy', 'UTC time'], axis=1)\n",
    "data.set_index('timestamp')\n",
    "\n",
    "# Checking for missing values\n",
    "display(data.isna().any())"
   ]
  },
  {
   "cell_type": "code",
   "execution_count": 5,
   "metadata": {},
   "outputs": [
    {
     "data": {
      "text/plain": [
       "timestamp    False\n",
       "label        False\n",
       "dtype: bool"
      ]
     },
     "metadata": {},
     "output_type": "display_data"
    }
   ],
   "source": [
    "# Labels file clean-up by removing unnecessary columns\n",
    "train_labels = train_labels.drop(['UTC time'], axis=1)\n",
    "\n",
    "# Checking for missing values\n",
    "display(train_labels.isna().any())\n"
   ]
  },
  {
   "cell_type": "code",
   "execution_count": 6,
   "metadata": {},
   "outputs": [
    {
     "data": {
      "text/plain": [
       "Counter({1: 27, 2: 213, 4: 47, 3: 88})"
      ]
     },
     "metadata": {},
     "output_type": "display_data"
    },
    {
     "data": {
      "text/html": [
       "<div>\n",
       "<style scoped>\n",
       "    .dataframe tbody tr th:only-of-type {\n",
       "        vertical-align: middle;\n",
       "    }\n",
       "\n",
       "    .dataframe tbody tr th {\n",
       "        vertical-align: top;\n",
       "    }\n",
       "\n",
       "    .dataframe thead th {\n",
       "        text-align: right;\n",
       "    }\n",
       "</style>\n",
       "<table border=\"1\" class=\"dataframe\">\n",
       "  <thead>\n",
       "    <tr style=\"text-align: right;\">\n",
       "      <th></th>\n",
       "      <th>timestamp</th>\n",
       "      <th>x</th>\n",
       "      <th>y</th>\n",
       "      <th>z</th>\n",
       "      <th>label</th>\n",
       "    </tr>\n",
       "  </thead>\n",
       "  <tbody>\n",
       "    <tr>\n",
       "      <th>0</th>\n",
       "      <td>1565109931087</td>\n",
       "      <td>-0.053802</td>\n",
       "      <td>-0.987701</td>\n",
       "      <td>0.068985</td>\n",
       "      <td>1</td>\n",
       "    </tr>\n",
       "    <tr>\n",
       "      <th>1</th>\n",
       "      <td>1565109932090</td>\n",
       "      <td>0.013718</td>\n",
       "      <td>-0.852371</td>\n",
       "      <td>-0.000870</td>\n",
       "      <td>1</td>\n",
       "    </tr>\n",
       "    <tr>\n",
       "      <th>2</th>\n",
       "      <td>1565109933092</td>\n",
       "      <td>0.145584</td>\n",
       "      <td>-1.007843</td>\n",
       "      <td>-0.036819</td>\n",
       "      <td>1</td>\n",
       "    </tr>\n",
       "    <tr>\n",
       "      <th>3</th>\n",
       "      <td>1565109934094</td>\n",
       "      <td>-0.099380</td>\n",
       "      <td>-1.209686</td>\n",
       "      <td>0.304489</td>\n",
       "      <td>1</td>\n",
       "    </tr>\n",
       "    <tr>\n",
       "      <th>4</th>\n",
       "      <td>1565109935097</td>\n",
       "      <td>0.082794</td>\n",
       "      <td>-1.001434</td>\n",
       "      <td>-0.025375</td>\n",
       "      <td>1</td>\n",
       "    </tr>\n",
       "  </tbody>\n",
       "</table>\n",
       "</div>"
      ],
      "text/plain": [
       "       timestamp         x         y         z  label\n",
       "0  1565109931087 -0.053802 -0.987701  0.068985      1\n",
       "1  1565109932090  0.013718 -0.852371 -0.000870      1\n",
       "2  1565109933092  0.145584 -1.007843 -0.036819      1\n",
       "3  1565109934094 -0.099380 -1.209686  0.304489      1\n",
       "4  1565109935097  0.082794 -1.001434 -0.025375      1"
      ]
     },
     "metadata": {},
     "output_type": "display_data"
    }
   ],
   "source": [
    "# Merging dataframes\n",
    "working_data = pd.merge(data, train_labels, on=['timestamp'])\n",
    "working_data.set_index('timestamp')\n",
    "display(Counter(working_data.label))\n",
    "display(working_data.head(5))"
   ]
  },
  {
   "cell_type": "code",
   "execution_count": 7,
   "metadata": {},
   "outputs": [
    {
     "name": "stdout",
     "output_type": "stream",
     "text": [
      "<class 'str'>\n"
     ]
    }
   ],
   "source": [
    "# working_data.label = working_data.label.replace([4,1,3], 0)\n",
    "# display(working_data.head())\n",
    "# display(Counter(working_data.label))\n",
    "print(type(working_data.columns[1:4][0]))"
   ]
  },
  {
   "cell_type": "code",
   "execution_count": 8,
   "metadata": {},
   "outputs": [
    {
     "name": "stdout",
     "output_type": "stream",
     "text": [
      "Training Features Shape: (281, 3)\n",
      "Training Labels Shape: (281,)\n",
      "Testing Features Shape: (94, 3)\n",
      "Testing Labels Shape: (94,)\n",
      "[1 2 3 4]\n",
      "[[0.07967008 0.56445267 0.24366656 0.11221069]]\n",
      "Correct Prediction (%) for Logistic Regression:  55.319148936170215\n"
     ]
    }
   ],
   "source": [
    "X = working_data[['x', 'y', 'z']]\n",
    "Y = working_data['label']\n",
    "\n",
    "X_train, X_test, y_train, y_test = train_test_split(X, Y, test_size=0.25, random_state=1, stratify=Y)\n",
    "\n",
    "print('Training Features Shape:', X_train.shape)\n",
    "print('Training Labels Shape:', y_train.shape)\n",
    "print('Testing Features Shape:', X_test.shape)\n",
    "print('Testing Labels Shape:', y_test.shape)\n",
    "\n",
    "logistic_model = LogisticRegression(random_state=1).fit(X_train, y_train)\n",
    "print(logistic_model.classes_)\n",
    "print(logistic_model.predict_proba([[0.032440,-0.970337,0.241425]]))\n",
    "print('Correct Prediction (%) for Logistic Regression: ', accuracy_score(y_test, logistic_model.predict(X_test), normalize = True) * 100.0)"
   ]
  },
  {
   "cell_type": "markdown",
   "metadata": {},
   "source": [
    "### Plotting values"
   ]
  },
  {
   "cell_type": "code",
   "execution_count": 9,
   "metadata": {},
   "outputs": [
    {
     "data": {
      "image/png": "[encoded data removed]",
      "text/plain": [
       "<Figure size 432x288 with 1 Axes>"
      ]
     },
     "metadata": {
      "needs_background": "light"
     },
     "output_type": "display_data"
    },
    {
     "data": {
      "image/png": "[encoded data removed]",
      "text/plain": [
       "<Figure size 432x288 with 1 Axes>"
      ]
     },
     "metadata": {
      "needs_background": "light"
     },
     "output_type": "display_data"
    },
    {
     "data": {
      "image/png": "[encoded data removed]",
      "text/plain": [
       "<Figure size 432x288 with 1 Axes>"
      ]
     },
     "metadata": {
      "needs_background": "light"
     },
     "output_type": "display_data"
    },
    {
     "data": {
      "image/png": "[encoded data removed]",
      "text/plain": [
       "<Figure size 432x288 with 1 Axes>"
      ]
     },
     "metadata": {
      "needs_background": "light"
     },
     "output_type": "display_data"
    }
   ],
   "source": [
    "for x in [1,2,3,4]:\n",
    "\n",
    "    working_data_1 = working_data[working_data.label == x]\n",
    "\n",
    "    plt.figure()\n",
    "    plt.plot(working_data_1.x, working_data_1.y, \"bo\", ms=2, label='X')\n",
    "    plt.plot(working_data_1.x, working_data_1.z, \"go\", ms=2, label='X')\n",
    "    plt.plot(working_data_1.y, working_data_1.z, \"ro\", ms=2, label='X')\n",
    "    plt.axis([-4,4,-4,4])\n",
    "    plt.xlabel(\"X\")\n",
    "    plt.ylabel(\"Y\")\n",
    "    plt.title(f'Label: {x}')\n",
    "    plt.show()\n"
   ]
  },
  {
   "cell_type": "code",
   "execution_count": 10,
   "metadata": {},
   "outputs": [
    {
     "data": {
      "image/png": "[encoded data removed]",
      "text/plain": [
       "<Figure size 432x288 with 1 Axes>"
      ]
     },
     "metadata": {
      "needs_background": "light"
     },
     "output_type": "display_data"
    },
    {
     "data": {
      "image/png": "[encoded data removed]",
      "text/plain": [
       "<Figure size 432x288 with 1 Axes>"
      ]
     },
     "metadata": {
      "needs_background": "light"
     },
     "output_type": "display_data"
    },
    {
     "data": {
      "image/png": "[encoded data removed]",
      "text/plain": [
       "<Figure size 432x288 with 1 Axes>"
      ]
     },
     "metadata": {
      "needs_background": "light"
     },
     "output_type": "display_data"
    }
   ],
   "source": [
    "for x in working_data.columns[1:4]:\n",
    "\n",
    "\n",
    "    plt.figure()\n",
    "    plt.plot(working_data.label, working_data[x], \"bo\", ms=2)\n",
    "    plt.axis([0.5,5,-2,4])\n",
    "    plt.xlabel(\"Label\")\n",
    "    plt.ylabel(f'{x} value')\n",
    "    plt.title(f'Predictor: {x}')\n",
    "    plt.show()"
   ]
  },
  {
   "cell_type": "markdown",
   "metadata": {},
   "source": [
    "# 2. Creating and fitting a model\n",
    "\n",
    "## Using random forest and logistic regression\n",
    "\n",
    "First I tried simple models with train_test_split evaluation"
   ]
  },
  {
   "cell_type": "code",
   "execution_count": 11,
   "metadata": {},
   "outputs": [
    {
     "name": "stdout",
     "output_type": "stream",
     "text": [
      "Training Features Shape: (281, 3)\n",
      "Training Labels Shape: (281,)\n",
      "Testing Features Shape: (94, 3)\n",
      "Testing Labels Shape: (94,)\n"
     ]
    }
   ],
   "source": [
    "# Selecting X, Y\n",
    "X = working_data[['x', 'y', 'z']]\n",
    "Y = working_data['label']\n",
    "\n",
    "X_train, X_test, y_train, y_test = train_test_split(X, Y, test_size=0.25, random_state=1, stratify=Y)\n",
    "\n",
    "print('Training Features Shape:', X_train.shape)\n",
    "print('Training Labels Shape:', y_train.shape)\n",
    "print('Testing Features Shape:', X_test.shape)\n",
    "print('Testing Labels Shape:', y_test.shape)"
   ]
  },
  {
   "cell_type": "code",
   "execution_count": 12,
   "metadata": {},
   "outputs": [],
   "source": [
    "classification_model = RandomForestClassifier(n_estimators = 100, random_state=1, max_leaf_nodes=5000).fit(X_train, y_train)\n",
    "logistic_model = LogisticRegression(random_state=1).fit(X_train, y_train)\n",
    "knn_model = KNeighborsClassifier(n_neighbors=9, weights='distance').fit(X_train, y_train)"
   ]
  },
  {
   "cell_type": "code",
   "execution_count": 13,
   "metadata": {},
   "outputs": [
    {
     "name": "stdout",
     "output_type": "stream",
     "text": [
      "Correct Prediction (%) for Random Forests:  57.446808510638306\n",
      "Correct Prediction (%) for Logistic Regression:  55.319148936170215\n",
      "Correct Prediction (%) for KNN Classiier:  59.57446808510638\n"
     ]
    }
   ],
   "source": [
    "print('Correct Prediction (%) for Random Forests: ', accuracy_score(y_test, classification_model.predict(X_test), normalize = True) * 100.0)\n",
    "print('Correct Prediction (%) for Logistic Regression: ', accuracy_score(y_test, logistic_model.predict(X_test), normalize = True) * 100.0)\n",
    "print('Correct Prediction (%) for KNN Classiier: ', accuracy_score(y_test, knn_model.predict(X_test), normalize = True) * 100.0)"
   ]
  },
  {
   "cell_type": "code",
   "execution_count": 14,
   "metadata": {},
   "outputs": [
    {
     "name": "stdout",
     "output_type": "stream",
     "text": [
      "CV accuracy for basic random forest: 0.5733333333333333\n",
      "CV accuracy for basic logistic regression: 0.5519999999999999\n",
      "CV accuracy for basic knn: 0.5813333333333333\n"
     ]
    }
   ],
   "source": [
    "# Comment here\n",
    "\n",
    "from sklearn.model_selection import cross_val_score\n",
    "\n",
    "cv = cross_val_score(classification_model, X, Y)\n",
    "print(f'CV accuracy for basic random forest: {cv.mean()}')\n",
    "\n",
    "cv = cross_val_score(logistic_model, X, Y)\n",
    "print(f'CV accuracy for basic logistic regression: {cv.mean()}')\n",
    "\n",
    "cv = cross_val_score(knn_model, X, Y)\n",
    "print(f'CV accuracy for basic knn: {cv.mean()}')"
   ]
  },
  {
   "cell_type": "code",
   "execution_count": 15,
   "metadata": {},
   "outputs": [
    {
     "name": "stdout",
     "output_type": "stream",
     "text": [
      "Correct Prediction (%) for Random Forests with 5 leafs: 59.57446808510638\n",
      "Feature importance: [0.33684313 0.33243326 0.33072361]\n",
      "Correct Prediction (%) for Random Forests with 50 leafs: 56.38297872340425\n",
      "Feature importance: [0.32209051 0.34659754 0.33131195]\n",
      "Correct Prediction (%) for Random Forests with 500 leafs: 57.446808510638306\n",
      "Feature importance: [0.32303252 0.3441372  0.33283029]\n",
      "Correct Prediction (%) for Random Forests with 5000 leafs: 57.446808510638306\n",
      "Feature importance: [0.32303252 0.3441372  0.33283029]\n"
     ]
    }
   ],
   "source": [
    "for x in [5, 50, 500, 5000]:\n",
    "    model = RandomForestClassifier(n_estimators = 100, random_state=1, max_leaf_nodes=x).fit(X_train, y_train)\n",
    "    print(f'Correct Prediction (%) for Random Forests with {x} leafs: {accuracy_score(y_test, model.predict(X_test), normalize = True) * 100.0}')\n",
    "    print(f'Feature importance: {model.feature_importances_}')"
   ]
  },
  {
   "cell_type": "markdown",
   "metadata": {},
   "source": [
    "The accuracy of simple models was not satisfactory at all. "
   ]
  },
  {
   "cell_type": "markdown",
   "metadata": {},
   "source": [
    "# 3. Different Approach -  using Imputer\n",
    "\n",
    "One of the basic solutions to the problems of model inaccuracy is not enought data to train and verify the model (at least Google claims so). It was somehow a huge waste to give up 90% of raw data during the process of merging. So the obvious solution to this was to figure out missing labels. First I tried to use KNN Classifier (as I was familiar with the idea since lesson 2 or somewhere around) to predict values of missing labels and during the process of research I came across 'imputing' as a way of removing NaNs in an organised way. I also found out that there is special class called KNN Imputer. I decided to give it a try."
   ]
  },
  {
   "cell_type": "code",
   "execution_count": 16,
   "metadata": {},
   "outputs": [
    {
     "data": {
      "text/plain": [
       "75"
      ]
     },
     "metadata": {},
     "output_type": "display_data"
    },
    {
     "data": {
      "text/plain": [
       "x        False\n",
       "y        False\n",
       "z        False\n",
       "label    False\n",
       "dtype: bool"
      ]
     },
     "metadata": {},
     "output_type": "display_data"
    },
    {
     "data": {
      "text/plain": [
       "Counter({3: 19, 2: 37, 4: 14, 1: 5})"
      ]
     },
     "metadata": {},
     "output_type": "display_data"
    },
    {
     "data": {
      "text/plain": [
       "3744"
      ]
     },
     "metadata": {},
     "output_type": "display_data"
    },
    {
     "data": {
      "text/html": [
       "<div>\n",
       "<style scoped>\n",
       "    .dataframe tbody tr th:only-of-type {\n",
       "        vertical-align: middle;\n",
       "    }\n",
       "\n",
       "    .dataframe tbody tr th {\n",
       "        vertical-align: top;\n",
       "    }\n",
       "\n",
       "    .dataframe thead th {\n",
       "        text-align: right;\n",
       "    }\n",
       "</style>\n",
       "<table border=\"1\" class=\"dataframe\">\n",
       "  <thead>\n",
       "    <tr style=\"text-align: right;\">\n",
       "      <th></th>\n",
       "      <th>x</th>\n",
       "      <th>y</th>\n",
       "      <th>z</th>\n",
       "      <th>label</th>\n",
       "    </tr>\n",
       "    <tr>\n",
       "      <th>timestamp</th>\n",
       "      <th></th>\n",
       "      <th></th>\n",
       "      <th></th>\n",
       "      <th></th>\n",
       "    </tr>\n",
       "  </thead>\n",
       "  <tbody>\n",
       "    <tr>\n",
       "      <th>1565109930787</th>\n",
       "      <td>-0.006485</td>\n",
       "      <td>-0.934860</td>\n",
       "      <td>-0.069046</td>\n",
       "      <td>NaN</td>\n",
       "    </tr>\n",
       "    <tr>\n",
       "      <th>1565109930887</th>\n",
       "      <td>-0.066467</td>\n",
       "      <td>-1.015442</td>\n",
       "      <td>0.089554</td>\n",
       "      <td>NaN</td>\n",
       "    </tr>\n",
       "    <tr>\n",
       "      <th>1565109930987</th>\n",
       "      <td>-0.043488</td>\n",
       "      <td>-1.021255</td>\n",
       "      <td>0.178467</td>\n",
       "      <td>NaN</td>\n",
       "    </tr>\n",
       "    <tr>\n",
       "      <th>1565109931087</th>\n",
       "      <td>-0.053802</td>\n",
       "      <td>-0.987701</td>\n",
       "      <td>0.068985</td>\n",
       "      <td>1.0</td>\n",
       "    </tr>\n",
       "    <tr>\n",
       "      <th>1565109931188</th>\n",
       "      <td>-0.054031</td>\n",
       "      <td>-1.003616</td>\n",
       "      <td>0.126450</td>\n",
       "      <td>NaN</td>\n",
       "    </tr>\n",
       "  </tbody>\n",
       "</table>\n",
       "</div>"
      ],
      "text/plain": [
       "                      x         y         z  label\n",
       "timestamp                                         \n",
       "1565109930787 -0.006485 -0.934860 -0.069046    NaN\n",
       "1565109930887 -0.066467 -1.015442  0.089554    NaN\n",
       "1565109930987 -0.043488 -1.021255  0.178467    NaN\n",
       "1565109931087 -0.053802 -0.987701  0.068985    1.0\n",
       "1565109931188 -0.054031 -1.003616  0.126450    NaN"
      ]
     },
     "metadata": {},
     "output_type": "display_data"
    }
   ],
   "source": [
    "# Merging with keeping all the source values from train_time_series.csv\n",
    "testing = pd.merge(data, train_labels, on=['timestamp']).set_index('timestamp').sample(75)\n",
    "display(len(testing))\n",
    "display(testing.isna().any())\n",
    "display(Counter(testing.label))\n",
    "\n",
    "nan_including_df = pd.merge(data, train_labels, on=['timestamp'], how='left').set_index('timestamp')\n",
    "display(len(nan_including_df))\n",
    "\n",
    "\n",
    "# Droping timestamps\n",
    "# nan_including_df = nan_including_df.drop(['timestamp'], axis=1)\n",
    "\n",
    "\n",
    "# Making sure we have NaNs and the whole lenght of a series is kept\n",
    "\n",
    "X_testing = testing[['x', 'y', 'z']]\n",
    "Y_testing = testing['label']\n",
    "\n",
    "# nan_including_df.at[1565109931087, 'label'] = np.nan\n",
    "display(nan_including_df.head())"
   ]
  },
  {
   "cell_type": "code",
   "execution_count": 17,
   "metadata": {},
   "outputs": [
    {
     "data": {
      "text/html": [
       "<div>\n",
       "<style scoped>\n",
       "    .dataframe tbody tr th:only-of-type {\n",
       "        vertical-align: middle;\n",
       "    }\n",
       "\n",
       "    .dataframe tbody tr th {\n",
       "        vertical-align: top;\n",
       "    }\n",
       "\n",
       "    .dataframe thead th {\n",
       "        text-align: right;\n",
       "    }\n",
       "</style>\n",
       "<table border=\"1\" class=\"dataframe\">\n",
       "  <thead>\n",
       "    <tr style=\"text-align: right;\">\n",
       "      <th></th>\n",
       "      <th>x</th>\n",
       "      <th>y</th>\n",
       "      <th>z</th>\n",
       "      <th>label</th>\n",
       "    </tr>\n",
       "    <tr>\n",
       "      <th>timestamp</th>\n",
       "      <th></th>\n",
       "      <th></th>\n",
       "      <th></th>\n",
       "      <th></th>\n",
       "    </tr>\n",
       "  </thead>\n",
       "  <tbody>\n",
       "    <tr>\n",
       "      <th>1565109930787</th>\n",
       "      <td>-0.006485</td>\n",
       "      <td>-0.934860</td>\n",
       "      <td>-0.069046</td>\n",
       "      <td>2</td>\n",
       "    </tr>\n",
       "    <tr>\n",
       "      <th>1565109930887</th>\n",
       "      <td>-0.066467</td>\n",
       "      <td>-1.015442</td>\n",
       "      <td>0.089554</td>\n",
       "      <td>1</td>\n",
       "    </tr>\n",
       "    <tr>\n",
       "      <th>1565109930987</th>\n",
       "      <td>-0.043488</td>\n",
       "      <td>-1.021255</td>\n",
       "      <td>0.178467</td>\n",
       "      <td>2</td>\n",
       "    </tr>\n",
       "    <tr>\n",
       "      <th>1565109931087</th>\n",
       "      <td>-0.053802</td>\n",
       "      <td>-0.987701</td>\n",
       "      <td>0.068985</td>\n",
       "      <td>1</td>\n",
       "    </tr>\n",
       "    <tr>\n",
       "      <th>1565109931188</th>\n",
       "      <td>-0.054031</td>\n",
       "      <td>-1.003616</td>\n",
       "      <td>0.126450</td>\n",
       "      <td>1</td>\n",
       "    </tr>\n",
       "  </tbody>\n",
       "</table>\n",
       "</div>"
      ],
      "text/plain": [
       "                      x         y         z  label\n",
       "timestamp                                         \n",
       "1565109930787 -0.006485 -0.934860 -0.069046      2\n",
       "1565109930887 -0.066467 -1.015442  0.089554      1\n",
       "1565109930987 -0.043488 -1.021255  0.178467      2\n",
       "1565109931087 -0.053802 -0.987701  0.068985      1\n",
       "1565109931188 -0.054031 -1.003616  0.126450      1"
      ]
     },
     "metadata": {},
     "output_type": "display_data"
    },
    {
     "data": {
      "text/plain": [
       "Counter({2: 2076, 1: 213, 3: 1397, 4: 58})"
      ]
     },
     "metadata": {},
     "output_type": "display_data"
    },
    {
     "data": {
      "text/plain": [
       "3669"
      ]
     },
     "metadata": {},
     "output_type": "display_data"
    },
    {
     "data": {
      "text/html": [
       "<div>\n",
       "<style scoped>\n",
       "    .dataframe tbody tr th:only-of-type {\n",
       "        vertical-align: middle;\n",
       "    }\n",
       "\n",
       "    .dataframe tbody tr th {\n",
       "        vertical-align: top;\n",
       "    }\n",
       "\n",
       "    .dataframe thead th {\n",
       "        text-align: right;\n",
       "    }\n",
       "</style>\n",
       "<table border=\"1\" class=\"dataframe\">\n",
       "  <thead>\n",
       "    <tr style=\"text-align: right;\">\n",
       "      <th></th>\n",
       "      <th>x</th>\n",
       "      <th>y</th>\n",
       "      <th>z</th>\n",
       "      <th>label</th>\n",
       "    </tr>\n",
       "    <tr>\n",
       "      <th>timestamp</th>\n",
       "      <th></th>\n",
       "      <th></th>\n",
       "      <th></th>\n",
       "      <th></th>\n",
       "    </tr>\n",
       "  </thead>\n",
       "  <tbody>\n",
       "    <tr>\n",
       "      <th>1565109930787</th>\n",
       "      <td>-0.006485</td>\n",
       "      <td>-0.934860</td>\n",
       "      <td>-0.069046</td>\n",
       "      <td>2</td>\n",
       "    </tr>\n",
       "    <tr>\n",
       "      <th>1565109930887</th>\n",
       "      <td>-0.066467</td>\n",
       "      <td>-1.015442</td>\n",
       "      <td>0.089554</td>\n",
       "      <td>1</td>\n",
       "    </tr>\n",
       "    <tr>\n",
       "      <th>1565109930987</th>\n",
       "      <td>-0.043488</td>\n",
       "      <td>-1.021255</td>\n",
       "      <td>0.178467</td>\n",
       "      <td>2</td>\n",
       "    </tr>\n",
       "    <tr>\n",
       "      <th>1565109931087</th>\n",
       "      <td>-0.053802</td>\n",
       "      <td>-0.987701</td>\n",
       "      <td>0.068985</td>\n",
       "      <td>1</td>\n",
       "    </tr>\n",
       "    <tr>\n",
       "      <th>1565109931188</th>\n",
       "      <td>-0.054031</td>\n",
       "      <td>-1.003616</td>\n",
       "      <td>0.126450</td>\n",
       "      <td>1</td>\n",
       "    </tr>\n",
       "  </tbody>\n",
       "</table>\n",
       "</div>"
      ],
      "text/plain": [
       "                      x         y         z  label\n",
       "timestamp                                         \n",
       "1565109930787 -0.006485 -0.934860 -0.069046      2\n",
       "1565109930887 -0.066467 -1.015442  0.089554      1\n",
       "1565109930987 -0.043488 -1.021255  0.178467      2\n",
       "1565109931087 -0.053802 -0.987701  0.068985      1\n",
       "1565109931188 -0.054031 -1.003616  0.126450      1"
      ]
     },
     "metadata": {},
     "output_type": "display_data"
    },
    {
     "data": {
      "text/plain": [
       "array([2, 1, 3, 4])"
      ]
     },
     "metadata": {},
     "output_type": "display_data"
    },
    {
     "data": {
      "text/plain": [
       "x        False\n",
       "y        False\n",
       "z        False\n",
       "label    False\n",
       "dtype: bool"
      ]
     },
     "metadata": {},
     "output_type": "display_data"
    },
    {
     "data": {
      "text/plain": [
       "x        True\n",
       "y        True\n",
       "z        True\n",
       "label    True\n",
       "dtype: bool"
      ]
     },
     "metadata": {},
     "output_type": "display_data"
    }
   ],
   "source": [
    "# Import KNN Imputer\n",
    "from sklearn.impute import KNNImputer\n",
    "\n",
    "imputer = KNNImputer(n_neighbors=5, weights='distance')\n",
    "nan_including_df = pd.DataFrame(imputer.fit_transform(nan_including_df), columns=nan_including_df.columns, index=nan_including_df.index)\n",
    "nan_including_df.label = nan_including_df.label.round().astype(int)\n",
    "display(nan_including_df.head())\n",
    "display(Counter(nan_including_df.label))\n",
    "\n",
    "# Drop testing sample after imputing\n",
    "nan_including_df = nan_including_df.drop(index=testing.index)\n",
    "display(len(nan_including_df))\n",
    "\n",
    "# check if all NaNs are removed and all values are finite\n",
    "display(nan_including_df.head())\n",
    "display(nan_including_df.label.unique())\n",
    "display(nan_including_df.isna().any())\n",
    "display(np.isfinite(nan_including_df).all())\n",
    "\n",
    "# Selecing X and Y from imputed dataset\n",
    "X_nan = nan_including_df[['x', 'y', 'z']]\n",
    "Y_nan = nan_including_df['label']"
   ]
  },
  {
   "cell_type": "code",
   "execution_count": 18,
   "metadata": {},
   "outputs": [],
   "source": [
    "# X_train, X_test, y_train, y_test = train_test_split(X_nan, Y_nan,test_size=0.25, random_state=1)\n",
    "\n",
    "# print('Training Features Shape:', X_train.shape)\n",
    "# print('Training Labels Shape:', y_train.shape)\n",
    "# print('Testing Features Shape:', X_test.shape)\n",
    "# print('Testing Labels Shape:', y_test.shape)"
   ]
  },
  {
   "cell_type": "code",
   "execution_count": 19,
   "metadata": {},
   "outputs": [],
   "source": [
    "# Fitting models with imputed data\n",
    "\n",
    "classification_model_knnimp = RandomForestClassifier(n_estimators = 100, random_state=1, max_leaf_nodes=5000).fit(X_nan, Y_nan)\n",
    "knn_model_knnimp = KNeighborsClassifier(n_neighbors=9, weights='distance').fit(X_nan, Y_nan)"
   ]
  },
  {
   "cell_type": "code",
   "execution_count": 20,
   "metadata": {},
   "outputs": [
    {
     "name": "stdout",
     "output_type": "stream",
     "text": [
      "Correct Prediction (%) for Random Forests:  68.0\n",
      "Correct Prediction (%) for KNN Classifier:  70.66666666666667\n"
     ]
    }
   ],
   "source": [
    "# Trying train, test, split approach one new models with 50% test size\n",
    "\n",
    "print('Correct Prediction (%) for Random Forests: ', accuracy_score(Y_testing, classification_model_knnimp.predict(X_testing), normalize = True) * 100.0)\n",
    "print('Correct Prediction (%) for KNN Classifier: ', accuracy_score(Y_testing, knn_model_knnimp.predict(X_testing), normalize = True) * 100.0)"
   ]
  },
  {
   "cell_type": "code",
   "execution_count": 21,
   "metadata": {},
   "outputs": [
    {
     "name": "stdout",
     "output_type": "stream",
     "text": [
      "CV accuracy for imputed random forest: 0.5733333333333333\n",
      "CV accuracy for RF testing raw data: 0.48\n",
      "CV accuracy for imputed kNN: 0.5813333333333333\n",
      "CV accuracy for kNN testing raw data: 0.49333333333333335\n"
     ]
    }
   ],
   "source": [
    "# Comment here\n",
    "\n",
    "cv = cross_val_score(classification_model_knnimp, X, Y)\n",
    "print(f'CV accuracy for imputed random forest: {cv.mean()}')\n",
    "\n",
    "cv = cross_val_score(classification_model_knnimp, X_testing, Y_testing)\n",
    "print(f'CV accuracy for RF testing raw data: {cv.mean()}')\n",
    "\n",
    "cv = cross_val_score(knn_model_knnimp, X, Y)\n",
    "print(f'CV accuracy for imputed kNN: {cv.mean()}')\n",
    "\n",
    "cv = cross_val_score(knn_model_knnimp, X_testing, Y_testing)\n",
    "print(f'CV accuracy for kNN testing raw data: {cv.mean()}')"
   ]
  },
  {
   "cell_type": "code",
   "execution_count": 22,
   "metadata": {},
   "outputs": [
    {
     "name": "stdout",
     "output_type": "stream",
     "text": [
      "Correct Prediction (%) for Random Forests with 5 leafs: 45.33333333333333\n",
      "Correct Prediction (%) for Random Forests with 50 leafs: 58.666666666666664\n",
      "Correct Prediction (%) for Random Forests with 500 leafs: 66.66666666666666\n",
      "Correct Prediction (%) for Random Forests with 5000 leafs: 68.0\n"
     ]
    }
   ],
   "source": [
    "for x in [5,50, 500, 5000]:\n",
    "    model = RandomForestClassifier(n_estimators = 100, random_state=1, max_leaf_nodes=x).fit(X_nan, Y_nan)\n",
    "    print(f'Correct Prediction (%) for Random Forests with {x} leafs: {accuracy_score(Y_testing, model.predict(X_testing), normalize = True) * 100.0}')"
   ]
  },
  {
   "cell_type": "markdown",
   "metadata": {},
   "source": [
    "# 4. Predicting final project test data"
   ]
  },
  {
   "cell_type": "code",
   "execution_count": 23,
   "metadata": {},
   "outputs": [
    {
     "name": "stdout",
     "output_type": "stream",
     "text": [
      "125\n",
      "1250\n"
     ]
    }
   ],
   "source": [
    "test_data = pd.read_csv('test_time_series.csv', index_col=0)\n",
    "test_labels = pd.read_csv('test_labels.csv')\n",
    "test_data.head()\n",
    "print(len(test_labels))\n",
    "print(len(test_data))"
   ]
  },
  {
   "cell_type": "code",
   "execution_count": 24,
   "metadata": {},
   "outputs": [],
   "source": [
    "test_data = test_data.drop(['UTC time', 'accuracy'], axis=1)\n",
    "test_labels = test_labels.drop(['label'], axis=1)"
   ]
  },
  {
   "cell_type": "code",
   "execution_count": 25,
   "metadata": {},
   "outputs": [
    {
     "data": {
      "text/html": [
       "<div>\n",
       "<style scoped>\n",
       "    .dataframe tbody tr th:only-of-type {\n",
       "        vertical-align: middle;\n",
       "    }\n",
       "\n",
       "    .dataframe tbody tr th {\n",
       "        vertical-align: top;\n",
       "    }\n",
       "\n",
       "    .dataframe thead th {\n",
       "        text-align: right;\n",
       "    }\n",
       "</style>\n",
       "<table border=\"1\" class=\"dataframe\">\n",
       "  <thead>\n",
       "    <tr style=\"text-align: right;\">\n",
       "      <th></th>\n",
       "      <th>Unnamed: 0</th>\n",
       "      <th>timestamp</th>\n",
       "      <th>UTC time</th>\n",
       "    </tr>\n",
       "  </thead>\n",
       "  <tbody>\n",
       "    <tr>\n",
       "      <th>0</th>\n",
       "      <td>24339</td>\n",
       "      <td>1565110307041</td>\n",
       "      <td>2019-08-06T16:51:47.041</td>\n",
       "    </tr>\n",
       "    <tr>\n",
       "      <th>1</th>\n",
       "      <td>24349</td>\n",
       "      <td>1565110308043</td>\n",
       "      <td>2019-08-06T16:51:48.043</td>\n",
       "    </tr>\n",
       "    <tr>\n",
       "      <th>2</th>\n",
       "      <td>24359</td>\n",
       "      <td>1565110309046</td>\n",
       "      <td>2019-08-06T16:51:49.046</td>\n",
       "    </tr>\n",
       "    <tr>\n",
       "      <th>3</th>\n",
       "      <td>24369</td>\n",
       "      <td>1565110310048</td>\n",
       "      <td>2019-08-06T16:51:50.048</td>\n",
       "    </tr>\n",
       "    <tr>\n",
       "      <th>4</th>\n",
       "      <td>24379</td>\n",
       "      <td>1565110311050</td>\n",
       "      <td>2019-08-06T16:51:51.050</td>\n",
       "    </tr>\n",
       "  </tbody>\n",
       "</table>\n",
       "</div>"
      ],
      "text/plain": [
       "   Unnamed: 0      timestamp                 UTC time\n",
       "0       24339  1565110307041  2019-08-06T16:51:47.041\n",
       "1       24349  1565110308043  2019-08-06T16:51:48.043\n",
       "2       24359  1565110309046  2019-08-06T16:51:49.046\n",
       "3       24369  1565110310048  2019-08-06T16:51:50.048\n",
       "4       24379  1565110311050  2019-08-06T16:51:51.050"
      ]
     },
     "execution_count": 25,
     "metadata": {},
     "output_type": "execute_result"
    }
   ],
   "source": [
    "test_labels.head()"
   ]
  },
  {
   "cell_type": "code",
   "execution_count": 26,
   "metadata": {},
   "outputs": [
    {
     "data": {
      "text/plain": [
       "Counter({3: 501, 2: 593, 1: 154, 4: 2})"
      ]
     },
     "metadata": {},
     "output_type": "display_data"
    }
   ],
   "source": [
    "test_X = test_data[['x', 'y', 'z']]\n",
    "test_data['label'] = classification_model_knnimp.predict(test_X)\n",
    "display(Counter(test_data.label))"
   ]
  },
  {
   "cell_type": "code",
   "execution_count": 27,
   "metadata": {},
   "outputs": [
    {
     "data": {
      "text/plain": [
       "Counter({3: 513, 2: 572, 1: 163, 4: 2})"
      ]
     },
     "metadata": {},
     "output_type": "display_data"
    }
   ],
   "source": [
    "test_data['label'] = knn_model_knnimp.predict(test_X)\n",
    "display(Counter(test_data.label))"
   ]
  },
  {
   "cell_type": "code",
   "execution_count": 28,
   "metadata": {},
   "outputs": [
    {
     "data": {
      "text/plain": [
       "timestamp    False\n",
       "x            False\n",
       "y            False\n",
       "z            False\n",
       "label        False\n",
       "dtype: bool"
      ]
     },
     "metadata": {},
     "output_type": "display_data"
    }
   ],
   "source": [
    "display(test_data.isna().any())"
   ]
  },
  {
   "cell_type": "code",
   "execution_count": 29,
   "metadata": {},
   "outputs": [],
   "source": [
    "test_labels = test_labels.merge(test_data, on='timestamp', how='left').drop(columns=['x','y','z']).set_index('Unnamed: 0')"
   ]
  },
  {
   "cell_type": "code",
   "execution_count": 30,
   "metadata": {},
   "outputs": [
    {
     "data": {
      "text/plain": [
       "Counter({2: 58, 3: 50, 1: 16, 4: 1})"
      ]
     },
     "metadata": {},
     "output_type": "display_data"
    }
   ],
   "source": [
    "display(Counter(test_labels.label))"
   ]
  },
  {
   "cell_type": "code",
   "execution_count": 31,
   "metadata": {},
   "outputs": [],
   "source": [
    "test_labels.to_csv('test_labels_predicted.csv')"
   ]
  },
  {
   "cell_type": "code",
   "execution_count": 32,
   "metadata": {},
   "outputs": [
    {
     "name": "stdout",
     "output_type": "stream",
     "text": [
      "Total runtime of notebook: 7.596208095550537\n"
     ]
    }
   ],
   "source": [
    "t1 = time.time()\n",
    "\n",
    "total = t1-t0\n",
    "\n",
    "print(f'Total runtime of notebook: {total}')"
   ]
  }
 ],
 "metadata": {
  "kernelspec": {
   "display_name": "Python 3",
   "language": "python",
   "name": "python3"
  },
  "language_info": {
   "codemirror_mode": {
    "name": "ipython",
    "version": 3
   },
   "file_extension": ".py",
   "mimetype": "text/x-python",
   "name": "python",
   "nbconvert_exporter": "python",
   "pygments_lexer": "ipython3",
   "version": "3.8.3"
  }
 },
 "nbformat": 4,
 "nbformat_minor": 4
}
